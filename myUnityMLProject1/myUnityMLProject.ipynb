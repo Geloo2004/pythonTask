{
 "cells": [
  {
   "cell_type": "code",
   "execution_count": 29,
   "id": "0743c1f1-dc69-410f-a4dd-e5f2a614f0a8",
   "metadata": {
    "tags": []
   },
   "outputs": [
    {
     "name": "stdout",
     "output_type": "stream",
     "text": [
      "2 6.666666666666666\n",
      "3 13.333333333333332\n",
      "4 22.0\n",
      "5 25.555555555555557\n",
      "6 44.72222222222222\n",
      "7 53.66666666666667\n",
      "8 63.46666666666667\n",
      "9 84.62222222222222\n",
      "10 128.0\n",
      "11 250.96153846153845\n"
     ]
    }
   ],
   "source": [
    "import gspread\n",
    "import numpy as np\n",
    "import random\n",
    "import time\n",
    "\n",
    "gc = gspread.service_account(filename='myunityproject-400707-c5fa1f65294a.json')\n",
    "sh = gc.open(\"myUnityMLProject\").sheet1\n",
    "\n",
    "timeInterval = 3\n",
    "dragonSpeed = 4\n",
    "dragonAltitude = 2\n",
    "changeDirectionChance = 0.01\n",
    "g = 10\n",
    "\n",
    "seriesChance = 0\n",
    "timeInterval_series = 2\n",
    "\n",
    "normalEggChance = 1 - seriesChance\n",
    "\n",
    "sh.update('A1', \"dragonSpeed\")\n",
    "sh.update('B1', \"dragonAltitude\")\n",
    "sh.update('C1', \"normalEggChance\")\n",
    "sh.update('D1', \"timeInterval\")\n",
    "time.sleep(2)\n",
    "sh.update('E1', \"seriesChance\")\n",
    "sh.update('F1', \"timeInterval_series\")\n",
    "sh.update('G1', \"G\")\n",
    "sh.update('I1', \"difficulty\")\n",
    "time.sleep(2)\n",
    "i = 1\n",
    "while i<11:    \n",
    "    i += 1\n",
    "    \n",
    "    if(seriesChance>0):\n",
    "        difficulty = (dragonSpeed - dragonAltitude) * (normalEggChance / timeInterval + seriesChance / timeInterval_series) * g\n",
    "    else:\n",
    "        difficulty = (dragonSpeed - dragonAltitude) * (normalEggChance / timeInterval) * g\n",
    "    sh.update('A' + str(i), dragonSpeed)\n",
    "    sh.update('B' + str(i), dragonAltitude)\n",
    "    sh.update('C' + str(i), normalEggChance)\n",
    "    sh.update('D' + str(i), timeInterval)\n",
    "    time.sleep(2)\n",
    "    sh.update('E' + str(i), seriesChance)\n",
    "    sh.update('F' + str(i), timeInterval_series)\n",
    "    sh.update('G' + str(i), g)\n",
    "    sh.update('I' + str(i), difficulty)\n",
    "    time.sleep(2)\n",
    "    if(i==2):\n",
    "        dragonAltitude = 1\n",
    "        dragonSpeed = 5\n",
    "    elif(i == 3):\n",
    "        seriesChance = 0.1\n",
    "        timeInterval = 2\n",
    "    elif(i==4):\n",
    "        timeInterval_series = 1.2\n",
    "        timeInterval = 1.8\n",
    "    elif(i==5):        \n",
    "        dragonAltitude = 0\n",
    "        dragonSpeed = 7       \n",
    "    elif(i == 6):\n",
    "        g = 12\n",
    "    elif(i==7):\n",
    "        timeInterval_series = 1\n",
    "        seriesChance = 0.2\n",
    "    elif(i==8):        \n",
    "        g = 16\n",
    "    elif(i==9):        \n",
    "        timeInterval_series = 0.6\n",
    "        dragonAltitude = -1\n",
    "        dragonSpeed = 8   \n",
    "    elif(i==10):        \n",
    "        dragonAltitude = -2\n",
    "        seriesChance = 0.25\n",
    "        timeInterval_series = 0.4\n",
    "        timeInterval = 1.3\n",
    "        g = 18\n",
    "    print(str(i)+' ' + str(difficulty))\n",
    "        \n",
    "        "
   ]
  },
  {
   "cell_type": "code",
   "execution_count": null,
   "id": "4f62b37c-e471-4854-990c-66140669aa63",
   "metadata": {
    "jupyter": {
     "source_hidden": true
    },
    "tags": []
   },
   "outputs": [],
   "source": []
  },
  {
   "cell_type": "code",
   "execution_count": null,
   "id": "8fed5a7e-baf6-4125-bbdf-2c3de232eb69",
   "metadata": {},
   "outputs": [],
   "source": []
  },
  {
   "cell_type": "code",
   "execution_count": null,
   "id": "24f06627-dc03-41e3-87df-2a0e56124f46",
   "metadata": {},
   "outputs": [],
   "source": []
  },
  {
   "cell_type": "code",
   "execution_count": null,
   "id": "4b5e9d9c-f59a-44fc-a7a3-e8b9ab28507c",
   "metadata": {},
   "outputs": [],
   "source": []
  },
  {
   "cell_type": "code",
   "execution_count": null,
   "id": "686bb873",
   "metadata": {},
   "outputs": [],
   "source": []
  }
 ],
 "metadata": {
  "kernelspec": {
   "display_name": "Python 3 (ipykernel)",
   "language": "python",
   "name": "python3"
  },
  "language_info": {
   "codemirror_mode": {
    "name": "ipython",
    "version": 3
   },
   "file_extension": ".py",
   "mimetype": "text/x-python",
   "name": "python",
   "nbconvert_exporter": "python",
   "pygments_lexer": "ipython3",
   "version": "3.11.4"
  }
 },
 "nbformat": 4,
 "nbformat_minor": 5
}
